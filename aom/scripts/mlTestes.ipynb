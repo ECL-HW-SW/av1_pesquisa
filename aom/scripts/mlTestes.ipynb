{
 "cells": [
  {
   "cell_type": "code",
   "execution_count": 1,
   "id": "94eee570",
   "metadata": {
    "scrolled": true
   },
   "outputs": [],
   "source": [
    "import pandas as pd\n",
    "import time\n",
    "import warnings\n",
    "\n",
    "from sklearn.model_selection import train_test_split\n",
    "from sklearn.tree import DecisionTreeClassifier\n",
    "from sklearn.ensemble import ExtraTreesClassifier\n",
    "from sklearn.linear_model import LogisticRegression\n",
    "from sklearn.ensemble import RandomForestClassifier\n",
    "\n",
    "from sklearn.preprocessing import StandardScaler\n",
    "from sklearn.linear_model import Perceptron\n",
    "\n",
    "from sklearn.neural_network import MLPClassifier\n",
    "\n",
    "from fixed import Singleton as glob\n",
    "import ml_av1"
   ]
  },
  {
   "cell_type": "code",
   "execution_count": 2,
   "id": "d3a4c09f",
   "metadata": {},
   "outputs": [],
   "source": [
    "warnings.filterwarnings(\"ignore\")\n",
    "\n",
    "arquivo = pd.read_csv('out_based_split.csv', sep=';')\n",
    "\n",
    "y = arquivo['particionado ']\n",
    "x = arquivo.drop('particionado ', axis = 1)\n",
    "\n",
    "x_treino, x_teste, y_treino, y_teste = train_test_split(x, y, test_size = 0.3)"
   ]
  },
  {
   "cell_type": "code",
   "execution_count": 3,
   "id": "e608d55d",
   "metadata": {},
   "outputs": [
    {
     "name": "stdout",
     "output_type": "stream",
     "text": [
      "\n",
      " DecisionTreeClassifier()\n",
      "\n",
      " ExtraTreesClassifier()\n",
      "\n",
      " LogisticRegression()\n",
      "\n",
      " RandomForestClassifier()\n",
      "\n",
      " StandardScaler()\n",
      "\n",
      " Perceptron(eta0=0.1)\n"
     ]
    }
   ],
   "source": [
    "# MODELOS #\n",
    "\n",
    "# Decision Tree Classifier #\n",
    "tempo1begin = time.perf_counter()\n",
    "\n",
    "modelo1 = DecisionTreeClassifier()\n",
    "print(\"\\n\", modelo1.fit(x_treino,y_treino))\n",
    "\n",
    "tempo1end = time.perf_counter()\n",
    "\n",
    "# Extra Trees Classifier #\n",
    "tempo2begin = time.perf_counter()\n",
    "\n",
    "modelo2 = ExtraTreesClassifier()\n",
    "print(\"\\n\", modelo2.fit(x_treino,y_treino))\n",
    "\n",
    "tempo2end = time.perf_counter()\n",
    "\n",
    "# Logistic Regression #\n",
    "tempo3begin = time.perf_counter()\n",
    "\n",
    "modelo3 = LogisticRegression()\n",
    "print(\"\\n\", modelo3.fit(x_treino, y_treino))\n",
    "\n",
    "tempo3end = time.perf_counter()\n",
    "\n",
    "# Random Forest Classifier #\n",
    "tempo4begin = time.perf_counter()\n",
    "\n",
    "modelo4 = RandomForestClassifier()\n",
    "print(\"\\n\", modelo4.fit(x_treino, y_treino))\n",
    "\n",
    "tempo4end = time.perf_counter()\n",
    "\n",
    "# Perceptron #\n",
    "tempo5begin = time.perf_counter()\n",
    "\n",
    "modelo5 = StandardScaler()\n",
    "print(\"\\n\", modelo5.fit(x_treino))\n",
    "x_treino_scaled = modelo5.transform(x_treino.values)\n",
    "ppn = Perceptron(max_iter=1000, eta0=0.1, random_state=0)\n",
    "print(\"\\n\", ppn.fit(x_treino, y_treino.values.ravel()))\n",
    "\n",
    "tempo5end = time.perf_counter()"
   ]
  },
  {
   "cell_type": "code",
   "execution_count": 4,
   "id": "ca60c9b5",
   "metadata": {
    "scrolled": false
   },
   "outputs": [
    {
     "name": "stdout",
     "output_type": "stream",
     "text": [
      "\n",
      " MLPClassifier(max_iter=300, random_state=1)\n"
     ]
    },
    {
     "ename": "AttributeError",
     "evalue": "type object 'Singleton' has no attribute 'buf'",
     "output_type": "error",
     "traceback": [
      "\u001b[0;31m---------------------------------------------------------------------------\u001b[0m",
      "\u001b[0;31mAttributeError\u001b[0m                            Traceback (most recent call last)",
      "\u001b[0;32m<ipython-input-4-9adb3741a433>\u001b[0m in \u001b[0;36m<module>\u001b[0;34m\u001b[0m\n\u001b[1;32m     44\u001b[0m         \u001b[0mbsize_idx\u001b[0m \u001b[0;34m=\u001b[0m \u001b[0;36m4\u001b[0m\u001b[0;34m\u001b[0m\u001b[0;34m\u001b[0m\u001b[0m\n\u001b[1;32m     45\u001b[0m \u001b[0;34m\u001b[0m\u001b[0m\n\u001b[0;32m---> 46\u001b[0;31m     \u001b[0mscore\u001b[0m \u001b[0;34m=\u001b[0m \u001b[0mml_av1\u001b[0m\u001b[0;34m.\u001b[0m\u001b[0mav1_nn_predict_c\u001b[0m\u001b[0;34m(\u001b[0m\u001b[0mnodes\u001b[0m\u001b[0;34m,\u001b[0m\u001b[0mn\u001b[0m\u001b[0;34m,\u001b[0m\u001b[0mglob\u001b[0m\u001b[0;34m)\u001b[0m\u001b[0;34m\u001b[0m\u001b[0;34m\u001b[0m\u001b[0m\n\u001b[0m\u001b[1;32m     47\u001b[0m     \u001b[0mnodes\u001b[0m \u001b[0;34m=\u001b[0m \u001b[0;34m[\u001b[0m\u001b[0;34m]\u001b[0m\u001b[0;34m\u001b[0m\u001b[0;34m\u001b[0m\u001b[0m\n\u001b[1;32m     48\u001b[0m     \u001b[0mprint\u001b[0m\u001b[0;34m(\u001b[0m\u001b[0mscore\u001b[0m\u001b[0;34m)\u001b[0m\u001b[0;34m\u001b[0m\u001b[0;34m\u001b[0m\u001b[0m\n",
      "\u001b[0;32m~/av1_pesquisa/aom/scripts/ml_av1.py\u001b[0m in \u001b[0;36mav1_nn_predict_c\u001b[0;34m(input_nodes, j, nn_config)\u001b[0m\n\u001b[1;32m     30\u001b[0m     \u001b[0msingl\u001b[0m\u001b[0;34m.\u001b[0m\u001b[0mlayer_weights\u001b[0m \u001b[0;34m=\u001b[0m \u001b[0mnn_config\u001b[0m\u001b[0;34m.\u001b[0m\u001b[0mweights\u001b[0m\u001b[0;34m[\u001b[0m\u001b[0mj\u001b[0m\u001b[0;34m]\u001b[0m\u001b[0;34m\u001b[0m\u001b[0;34m\u001b[0m\u001b[0m\n\u001b[1;32m     31\u001b[0m     \u001b[0msingl\u001b[0m\u001b[0;34m.\u001b[0m\u001b[0mlayer_bias\u001b[0m \u001b[0;34m=\u001b[0m \u001b[0mnn_config\u001b[0m\u001b[0;34m.\u001b[0m\u001b[0mbias\u001b[0m\u001b[0;34m[\u001b[0m\u001b[0mj\u001b[0m\u001b[0;34m]\u001b[0m\u001b[0;34m\u001b[0m\u001b[0;34m\u001b[0m\u001b[0m\n\u001b[0;32m---> 32\u001b[0;31m     \u001b[0mnn_config\u001b[0m\u001b[0;34m.\u001b[0m\u001b[0mbuf\u001b[0m\u001b[0;34m[\u001b[0m\u001b[0mbuf_index\u001b[0m\u001b[0;34m]\u001b[0m \u001b[0;34m=\u001b[0m \u001b[0mnn_config\u001b[0m\u001b[0;34m.\u001b[0m\u001b[0mbuf\u001b[0m\u001b[0;34m[\u001b[0m\u001b[0mbuf_index\u001b[0m\u001b[0;34m]\u001b[0m\u001b[0;34m\u001b[0m\u001b[0;34m\u001b[0m\u001b[0m\n\u001b[0m\u001b[1;32m     33\u001b[0m \u001b[0;34m\u001b[0m\u001b[0m\n\u001b[1;32m     34\u001b[0m     \u001b[0mnum_output_nodes\u001b[0m \u001b[0;34m=\u001b[0m \u001b[0mnn_config\u001b[0m\u001b[0;34m.\u001b[0m\u001b[0mnum_hidden_nodes\u001b[0m\u001b[0;34m[\u001b[0m\u001b[0mj\u001b[0m\u001b[0;34m]\u001b[0m\u001b[0;34m[\u001b[0m\u001b[0mlayer\u001b[0m\u001b[0;34m]\u001b[0m\u001b[0;34m\u001b[0m\u001b[0;34m\u001b[0m\u001b[0m\n",
      "\u001b[0;31mAttributeError\u001b[0m: type object 'Singleton' has no attribute 'buf'"
     ]
    }
   ],
   "source": [
    "# AV1 MultiLayer #\n",
    "tempo6begin = time.perf_counter()\n",
    "\n",
    "modelo6 = MLPClassifier(random_state=1, max_iter=300)\n",
    "print(\"\\n\", modelo6.fit(x_treino, y_treino))\n",
    "\n",
    "tempo6end = time.perf_counter()\n",
    "\n",
    "cols = list(x_treino)\n",
    "nodes=[]\n",
    "\n",
    "split_only_thresh = [1.40402595879,\n",
    "                     4.72845183649,\n",
    "                     1.86517797783,\n",
    "                     1.58715223005,\n",
    "                     7.22695596987]\n",
    "\n",
    "no_split_thresh = [-100.000000,\n",
    "                   -4.100921,\n",
    "                   -4.564202,\n",
    "                   -5.695176,\n",
    "                   -1.483546]\n",
    "\n",
    "n=0\n",
    "for j,k in x_treino.iterrows():\n",
    "    \n",
    "    if n<5:\n",
    "        n=+1\n",
    "        \n",
    "    for i in cols:\n",
    "        nodes.append(x_treino[i][j])\n",
    "        \n",
    "    bsize = x_treino[i][j]\n",
    "    \n",
    "    if bsize == 15:\n",
    "        bsize_idx = 0\n",
    "    elif bsize == 12:\n",
    "        bsize_idx = 1\n",
    "    elif bsize == 9:\n",
    "        bsize_idx = 2\n",
    "    elif bsize == 6:\n",
    "        bsize_idx = 3\n",
    "    elif bsize == 3:\n",
    "        bsize_idx = 4\n",
    "        \n",
    "    score = ml_av1.av1_nn_predict_c(nodes,n,glob)\n",
    "    nodes = []\n",
    "    print(score)\n",
    "    \n",
    "    if (score > split_only_thresh[bsize_idx]):\n",
    "        partition_none_allowed = 0;\n",
    "        partition_horz_allowed = 0;\n",
    "        partition_vert_allowed = 0;\n",
    "        do_rectangular_split = 0;\n",
    "        \n",
    "    simple_motion_search_split = 2\n",
    "    if ((simple_motion_search_split >= 2) and (score < no_split_thresh[bsize_idx])):\n",
    "        do_square_split = 0;\n",
    "    "
   ]
  },
  {
   "cell_type": "code",
   "execution_count": 6,
   "id": "666ac775",
   "metadata": {
    "scrolled": false
   },
   "outputs": [
    {
     "name": "stdout",
     "output_type": "stream",
     "text": [
      "\n",
      "Acurácia Extra Trees Classifier: 83.360 Tempo: 0.02s\n",
      "\n",
      "Acurácia Decision Trees Classifier: 86.107 Tempo: 0.18s\n",
      "\n",
      "Acurácia Regressão Logistica: 78.595 Tempo: 0.09s\n",
      "\n",
      "Acurácia Floresta Aleatória: 87.237 Tempo: 0.39s\n",
      "\n",
      "Perceptron: 80.372 Tempo: 0.01s\n",
      "\n",
      "AV1 MultiLayer: 80.372 Tempo: 3.19s\n"
     ]
    }
   ],
   "source": [
    "# RESULTADOS #\n",
    "\n",
    "resultado1 = modelo1.score(x_teste, y_teste)\n",
    "resultado2 = modelo2.score(x_teste, y_teste)\n",
    "resultado3 = modelo3.score(x_teste, y_teste)\n",
    "resultado4 = modelo4.score(x_teste, y_teste)\n",
    "\n",
    "resultado5 = ppn.score(x_teste, y_teste)\n",
    "\n",
    "resultado6 = ppn.score(x_teste, y_teste)\n",
    "\n",
    "tempo1 = tempo1end - tempo1begin\n",
    "tempo2 = tempo2end - tempo2begin\n",
    "tempo3 = tempo3end - tempo3begin\n",
    "tempo4 = tempo4end - tempo4begin\n",
    "\n",
    "tempo5 = tempo5end - tempo5begin\n",
    "\n",
    "tempo6 = tempo6end - tempo6begin\n",
    "\n",
    "print(\"\\nAcurácia Extra Trees Classifier: %.3f Tempo: %.2fs\"%(resultado1*100, tempo1))\n",
    "print(\"\\nAcurácia Decision Trees Classifier: %.3f Tempo: %.2fs\"%(resultado2*100, tempo2))\n",
    "print(\"\\nAcurácia Regressão Logistica: %.3f Tempo: %.2fs\"%(resultado3*100, tempo3))\n",
    "print(\"\\nAcurácia Floresta Aleatória: %.3f Tempo: %.2fs\"%(resultado4*100, tempo4))\n",
    "\n",
    "print(\"\\nPerceptron: %.3f Tempo: %.2fs\"%(resultado5*100, tempo5))\n",
    "\n",
    "print(\"\\nAV1 MultiLayer: %.3f Tempo: %.2fs\"%(resultado6*100, tempo6))\n"
   ]
  },
  {
   "cell_type": "code",
   "execution_count": null,
   "id": "e89d5506",
   "metadata": {},
   "outputs": [],
   "source": []
  }
 ],
 "metadata": {
  "kernelspec": {
   "display_name": "Python 3",
   "language": "python",
   "name": "python3"
  },
  "language_info": {
   "codemirror_mode": {
    "name": "ipython",
    "version": 3
   },
   "file_extension": ".py",
   "mimetype": "text/x-python",
   "name": "python",
   "nbconvert_exporter": "python",
   "pygments_lexer": "ipython3",
   "version": "3.6.9"
  }
 },
 "nbformat": 4,
 "nbformat_minor": 5
}
